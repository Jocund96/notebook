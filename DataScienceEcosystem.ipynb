{
 "cells": [
  {
   "cell_type": "markdown",
   "id": "5e7d967e-95a5-4771-b7a2-2f325bc8be5a",
   "metadata": {
    "tags": []
   },
   "source": [
    "# Data Science Tools and Ecosystem"
   ]
  },
  {
   "cell_type": "markdown",
   "id": "71ed22d2-dc18-48ba-a4fe-491e031582ce",
   "metadata": {},
   "source": [
    "In this notebook, Data Science Tools and Ecosystem are summarized."
   ]
  },
  {
   "cell_type": "markdown",
   "id": "bae1207e-bad4-4370-97d0-7540c4a2a8b5",
   "metadata": {},
   "source": [
    "***Objectives:***\n",
    "- List of popular languages for Data Science\n",
    "- List of commonly used libraries\n",
    "- Table of data science tools"
   ]
  },
  {
   "cell_type": "markdown",
   "id": "1715f150-ed94-476b-8628-a4b66924b2cb",
   "metadata": {},
   "source": [
    "Some of the popular languages that Data Scientists use are:\n",
    "1. Python\n",
    "2. R\n",
    "3. Julia\n"
   ]
  },
  {
   "cell_type": "markdown",
   "id": "dd297504-c16a-4b24-9305-f9450aa0bcad",
   "metadata": {},
   "source": [
    "Some of the commonly used libraries used by Data Scientists include:\n",
    "1. ggplot2\n",
    "2. Plotly\n",
    "3. Numpy"
   ]
  },
  {
   "cell_type": "markdown",
   "id": "d00a1280-2fc2-4687-a8cf-2ece84d2b99f",
   "metadata": {},
   "source": [
    "|Data Science Tools|\n",
    "|------------------|\n",
    "|Jupyter Notebook / JupyterLab|\n",
    "|RStudio|\n",
    "|Apache Zeppelin|"
   ]
  },
  {
   "cell_type": "markdown",
   "id": "f99f9831-2603-417b-b154-5cb87b7c091e",
   "metadata": {},
   "source": [
    "### Below are a few examples of evaluating arithmetic expressions in Python"
   ]
  },
  {
   "cell_type": "code",
   "execution_count": 3,
   "id": "e043525e-53b2-4d54-b14a-c5d3b75cf038",
   "metadata": {
    "tags": []
   },
   "outputs": [
    {
     "data": {
      "text/plain": [
       "17"
      ]
     },
     "execution_count": 3,
     "metadata": {},
     "output_type": "execute_result"
    }
   ],
   "source": [
    "(3*4)+5 # This a simple arithmetic expression to mutiply then add integers"
   ]
  },
  {
   "cell_type": "code",
   "execution_count": 6,
   "id": "76157def-6770-4470-ab45-5c23bf06b504",
   "metadata": {
    "tags": []
   },
   "outputs": [
    {
     "data": {
      "text/plain": [
       "3.3333333333333335"
      ]
     },
     "execution_count": 6,
     "metadata": {},
     "output_type": "execute_result"
    }
   ],
   "source": [
    "200/60 # This will convert 200 minutes to hours by diving by 60"
   ]
  },
  {
   "cell_type": "markdown",
   "id": "899023eb-07c1-4f75-a81f-a0ad489695f2",
   "metadata": {},
   "source": [
    "## Author\n",
    "Jasurbek"
   ]
  },
  {
   "cell_type": "code",
   "execution_count": null,
   "id": "15765adf-25c4-4c47-86bb-87e7e4e2925f",
   "metadata": {},
   "outputs": [],
   "source": []
  }
 ],
 "metadata": {
  "kernelspec": {
   "display_name": "Python",
   "language": "python",
   "name": "conda-env-python-py"
  },
  "language_info": {
   "codemirror_mode": {
    "name": "ipython",
    "version": 3
   },
   "file_extension": ".py",
   "mimetype": "text/x-python",
   "name": "python",
   "nbconvert_exporter": "python",
   "pygments_lexer": "ipython3",
   "version": "3.7.12"
  }
 },
 "nbformat": 4,
 "nbformat_minor": 5
}
